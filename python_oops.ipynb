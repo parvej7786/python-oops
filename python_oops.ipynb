{
  "nbformat": 4,
  "nbformat_minor": 0,
  "metadata": {
    "colab": {
      "provenance": []
    },
    "kernelspec": {
      "name": "python3",
      "display_name": "Python 3"
    },
    "language_info": {
      "name": "python"
    }
  },
  "cells": [
    {
      "cell_type": "markdown",
      "source": [
        "**Python Oops**"
      ],
      "metadata": {
        "id": "GNAj7iDEV9bS"
      }
    },
    {
      "cell_type": "markdown",
      "source": [
        "1. What is Object-Oriented Programming (OOP)?\n",
        " -> Object-oriented programming (OOP) is a programming paradigm that organizes software design around data, or objects, rather than functions and logic. Objects contain both data (attributes) and code (methods) that operate on that data. OOP emphasizes the creation of reusable components and promotes modularity and maintainability in software development.\n",
        "Here's a more detailed explanation:\n",
        "Key Concepts in OOP:\n",
        "Objects:\n",
        "Instances of classes that represent real-world entities or concepts with data and behaviors.\n",
        "Classes:\n",
        "Blueprints for creating objects, defining their attributes and methods.\n",
        "\n",
        "2. What is a class in OOP?\n",
        " -> In Object-Oriented Programming (OOP), a class is a blueprint or template for creating objects. It defines the structure and behavior of objects, including their attributes (data) and methods (functions). A class acts as a user-defined data type, organizing data and behavior for a specific type of object.\n",
        "Key aspects of a class in OOP:\n",
        "Blueprint/Template:\n",
        "A class defines what an object will contain and what it can do.\n",
        "Data (Attributes):\n",
        "Classes include data members (variables) that store information about the object.\n",
        "Behavior (Methods):\n",
        "Classes define member functions (methods) that perform actions on the object.\n",
        "Objects are Instances:\n",
        "Objects are specific instances of a class, meaning they are created based on the class blueprint.\n",
        "Organization and Reusability:\n",
        "Classes help organize data and behavior, promoting code reuse by allowing multiple objects to be created from the same class template.\n",
        "Inheritance:\n",
        "Classes can inherit properties and methods from other classes, fostering a hierarchical structure and further promoting reusability.\n",
        "\n",
        "3. What is an object in OOP?\n",
        " -> In Object-Oriented Programming (OOP), an object is a fundamental building block, essentially a real-world entity or concept represented in code. It combines data (attributes or properties) and the actions that can be performed on that data (methods or behaviors). Think of a class as a blueprint, and an object as a specific instance created from that blueprint.\n",
        "\n",
        "4. What is the difference between abstraction and encapsulation?\n",
        " -> Abstraction focuses on presenting essential details while hiding unnecessary complexity, while encapsulation bundles data and methods into a single unit and controls access to them, often within a class. Abstraction addresses design problems, while encapsulation addresses implementation problems.\n",
        "Abstraction:\n",
        "Hides complex implementation details and presents a simplified view of an object or system.\n",
        "Focuses on what an object does (behavior) rather than how it does it.\n",
        "Makes it easier for users to interact with objects without understanding their internal workings.\n",
        "Examples:\n",
        "Using a car's steering wheel to control the car's movement without knowing the details of the engine or transmission.\n",
        "Using a coffee machine's buttons to brew coffee without understanding the internal heating and brewing processes.\n",
        "Encapsulation:\n",
        "Bundles data (variables) and methods (functions) that operate on that data into a single unit (like a class).\n",
        "Restricts direct access to the data from outside the unit, protecting the internal state of the object.\n",
        "Uses access modifiers (like private, protected, public) to control which parts of the object's data can be accessed from outside the class.\n",
        "Example:\n",
        "A banking application using a \"bank account\" object that encapsulates the account balance (data) and methods like \"deposit\" and \"withdraw\" (methods).\n",
        "A car's engine is encapsulated within the car's chassis, and the driver interacts with it through the dashboard controls, not directly.\n",
        "\n",
        "5. What are dunder methods in Python?\n",
        " -> Dunder methods, also known as magic methods, are special methods in Python that start and end with double underscores (e.g., _init, __str, __len_). They enable custom classes to integrate with built-in Python operations, such as printing, comparing, and performing arithmetic. When a corresponding operation is performed on an object, Python automatically calls the related dunder method.\n",
        "Some common dunder methods include:\n",
        "_init_: Called when an object is created.\n",
        "_str_: Called when the str() function is used on an object, or when using print().\n",
        "_repr_: Called by the repr() built-in function, returning a machine-readable representation of the object.\n",
        "_len_: Called when the len() function is used on an object.\n",
        "_getitem_: Enables indexing of objects (e.g., obj[key]).\n",
        "_add, __sub, __mul, __truediv_: Overload arithmetic operators (+, -, \\*, /).\n",
        "_eq, __ne, __lt, __gt, __le, __ge_: Overload comparison operators (==, !=, <, >, <=, >=).\n",
        "_call_: Allows an object to be called like a function.Dunder methods, also known as magic methods, are special methods in Python that start and end with double underscores (e.g., _init, __str, __len_). They enable custom classes to integrate with built-in Python operations, such as printing, comparing, and performing arithmetic. When a corresponding operation is performed on an object, Python automatically calls the related dunder method.\n",
        "Some common dunder methods include:\n",
        "_init_: Called when an object is created.\n",
        "_str_: Called when the str() function is used on an object, or when using print().\n",
        "_repr_: Called by the repr() built-in function, returning a machine-readable representation of the object.\n",
        "_len_: Called when the len() function is used on an object.\n",
        "_getitem_: Enables indexing of objects (e.g., obj[key]).\n",
        "_add, __sub, __mul, __truediv_: Overload arithmetic operators (+, -, \\*, /).\n",
        "_eq, __ne, __lt, __gt, __le, __ge_: Overload comparison operators (==, !=, <, >, <=, >=).\n",
        "_call_: Allows an object to be called like a function.\n",
        "\n",
        "6. Explain the concept of inheritance in OOP.\n",
        " -> Inheritance in object-oriented programming (OOP) allows a class (the \"child\" or \"subclass\") to inherit properties and methods from another class (the \"parent\" or \"superclass\"). This promotes code reusability and enables a hierarchical structure where subclasses can extend or modify the functionality of their parent classes.\n",
        "\n",
        " 7. What is polymorphism in OOP?\n",
        "  -> Polymorphism in Object-Oriented Programming (OOP) means \"many forms.\" It's the ability of an object to take on different forms or behaviors based on the context in which it's used. This allows code to be more flexible and adaptable, as it can handle different types of objects through a single interface.\n",
        "\n",
        "8. How is encapsulation achieved in Python?\n",
        " -> Encapsulation in Python is achieved by restricting access to attributes and methods, bundling data and methods that operate on that data within a class. It is implemented through naming conventions, using access modifiers such as single and double underscores.\n",
        " Public members: Accessible from anywhere.\n",
        " Protected members: Indicated by a single underscore prefix (_), suggesting internal use within the class and its subclasses, but still accessible from outside.\n",
        " Private members: Indicated by a double underscore prefix (), making them harder to access directly from outside the class due to name mangling.\n",
        "\n",
        "9. What is a constructor in Python?\n",
        "-> A constructor in Python is a special method, _init_, within a class that initializes the attributes of an object when it is created. It is automatically called when a new instance of the class is instantiated. Constructors set up the initial state of an object, ensuring it is ready for use.\n",
        "\n",
        "10. What are class and static methods in Python?\n",
        " -> Class methods and static methods are special types of methods in Python classes, distinguished by their behavior and how they interact with the class and its instances.\n",
        "Class Methods\n",
        "A class method is bound to the class and not the instance of the class. It receives the class itself as the first argument, conventionally named cls. Using the @classmethod decorator defines it. Class methods can access and modify class-level attributes, making them suitable for tasks that involve the class itself rather than a specific instance. They can also act as factory methods for creating instances of the class.\n",
        "Python\n",
        "\n",
        "class MyClass:\n",
        "    class_variable = \"Class Variable\"\n",
        "\n",
        "    def _init_(self, instance_variable):\n",
        "        self.instance_variable = instance_variable\n",
        "\n",
        "    @classmethod\n",
        "    def class_method(cls):\n",
        "        print(f\"Accessing class variable: {cls.class_variable}\")\n",
        "\n",
        "    @classmethod\n",
        "    def create_instance(cls, value):\n",
        "        return cls(value)\n",
        "\n",
        "MyClass.class_method()\n",
        "instance = MyClass.create_instance(\"Instance Value\")\n",
        "print(instance.instance_variable)\n",
        "Static Methods\n",
        "A static method is not bound to the class or its instances. It doesn't receive the class or the instance as an argument. The @staticmethod decorator defines it. Static methods are essentially regular functions that happen to be defined within a class. They are often used for utility functions that are related to the class but don't require access to class-specific or instance-specific data.\n",
        "Python\n",
        "\n",
        "class MyClass:\n",
        "    @staticmethod\n",
        "    def static_method(arg1, arg2):\n",
        "        print(f\"Static method called with arguments: {arg1}, {arg2}\")\n",
        "\n",
        "MyClass.static_method(\"Argument 1\", \"Argument 2\")\n",
        "\n",
        "11. What is method overloading in Python?\n",
        " ->  Method overloading in Python refers to the ability to define multiple methods with the same name within a class, where each method has a different number or type of parameters. However, Python does not support method overloading in the traditional sense as other languages like Java or C++. Instead, it relies on default arguments, variable-length arguments (args), and keyword arguments (*kwargs) to achieve similar functionality.\n",
        "When multiple methods with the same name are defined, Python only retains the last definition. To simulate method overloading, one can define a single method with optional parameters or variable arguments, allowing it to handle different input scenarios.\n",
        "\n",
        "12. What is method overriding in OOP?\n",
        " -> In Object-Oriented Programming (OOP), method overriding allows a subclass to provide its own specific implementation of a method that is already defined in its parent class. This enables customization of inherited behavior without modifying the parent class's code.\n",
        "\n",
        "13. What is a property decorator in Python?\n",
        " -> In Python, a property decorator is a built-in feature that allows methods to be accessed like attributes, providing a way to implement getters, setters, and deleters for class attributes. It is defined using the @property keyword before a method definition.\n",
        " The property decorator is useful for controlling access to attributes, adding logic for getting, setting, or deleting them, and creating read-only or computed attributes. It helps encapsulate the internal implementation of a class while providing a clean and Pythonic interface.\n",
        "\n",
        "14. Why is polymorphism important in OOP?\n",
        "  ->  Polymorphism is crucial in Object-Oriented Programming (OOP) because it enables objects of different classes to be treated as objects of a common type, promoting code reuse, flexibility, and extensibility. This allows developers to write more general and maintainable code by relying on abstractions rather than concrete implementations.\n",
        "\n",
        "15. What is an abstract class in Python?\n",
        "-> An abstract class in Python is a class that cannot be instantiated directly and is designed to serve as a blueprint for other classes. It defines a common interface for its subclasses, ensuring they implement specific methods. Abstract classes are created using the abc module and the @abstractmethod decorator.\n",
        "Abstract classes may contain abstract methods, which are declared but do not have an implementation in the abstract class. Subclasses are then required to provide concrete implementations for these abstract methods. This mechanism enforces a specific structure and behavior across a hierarchy of classes.\n",
        "\n",
        "16. What are the advantages of OOP?\n",
        "-> Object-Oriented Programming (OOP) offers several advantages, including code reusability, improved organization, easier maintenance, and enhanced security. OOP promotes modularity, making it easier to understand, debug, and modify code. It also facilitates the development of scalable and flexible software by allowing for the creation of reusable components and the modification of individual components without affecting the entire system.\n",
        "\n",
        "17. What is the difference between a class variable and an instance variable?\n",
        "-> A class variable is a variable shared by all instances of a class, meaning all objects created from that class will have access to and modify the same variable. An instance variable, on the other hand, is a variable that is specific to each instance, with each object having its own separate copy.\n",
        "\n",
        "18. What is multiple inheritance in Python?\n",
        "-> Multiple inheritance in Python is a feature that allows a class to inherit attributes and methods from more than one parent class. This enables a class to combine behaviors from different classes, creating a more versatile and reusable code structure. When defining a class with multiple inheritance, the parent classes are listed within parentheses after the class name, in the order of inheritance.Multiple inheritance in Python is a feature that allows a class to inherit attributes and methods from more than one parent class. This enables a class to combine behaviors from different classes, creating a more versatile and reusable code structure. When defining a class with multiple inheritance, the parent classes are listed within parentheses after the class name, in the order of inheritance.\n",
        "\n",
        "19. Explain the purpose of ‘’__str__’ and ‘__repr__’ ‘ methods in Python.\n",
        "-> In Python, the _str_ and _repr_ methods are special methods used to define how objects are represented as strings. They are crucial for debugging, logging, and providing user-friendly output.\n",
        "_str: This method returns a human-readable string representation of an object. It is called by the built-in str() function and implicitly when using print() on an object. The goal of __str_ is to provide an informal and easily understandable string representation for end users.\n",
        "_repr: This method returns a more technical string representation of an object, primarily intended for developers and debugging. It is called by the built-in repr() function. Ideally, the string returned by __repr_ should be able to recreate the object when passed to eval(), but this is not always possible or necessary.\n",
        "If the _str_ method is not defined for a class, Python will fall back to using the _repr_ method when str() or print() is called. However, if _repr_ is defined, it will always be used by repr(), regardless of whether _str_ is defined or not.\n",
        "\n",
        "\n",
        "\n",
        "20. What is the significance of the ‘super()’ function in Python?\n",
        "-> The super() function in Python is used to call methods from a parent class in a subclass. It returns a temporary object of the parent class, allowing access to its methods. This is particularly useful in scenarios involving inheritance, where a subclass extends or overrides the functionality of its parent class.\n",
        "The primary significance of super() lies in facilitating proper initialization and method calling within inheritance hierarchies. When a subclass overrides a method of its parent class, super() enables the subclass to invoke the parent's implementation of that method. This ensures that both the parent's and the subclass's logic are executed. Additionally, super() is crucial for calling the parent class's constructor (_init_) from the subclass's constructor, ensuring that the parent class's attributes are properly initialized.\n",
        "\n",
        "21. What is the significance of the __del__ method in Python?\n",
        "-> The _del_ method, also known as a destructor, in Python is called when an object is about to be destroyed. It provides an opportunity to perform cleanup actions, such as releasing external resources or finalizing operations, before the object's memory is reclaimed by the garbage collector. However, relying on _del_ for critical cleanup is generally discouraged due to the unpredictable timing of garbage collection.\n",
        "\n",
        "22. What is the difference between @staticmethod and @classmethod in Python?\n",
        "-> The key differences between @staticmethod and @classmethod in Python revolve around their interaction with the class and its instances:\n",
        "@staticmethod:\n",
        "It is defined using the @staticmethod decorator.\n",
        "It doesn't receive any implicit first argument (neither self nor cls).\n",
        "It cannot access or modify class or instance state.\n",
        "It behaves like a regular function, but it's grouped within the class namespace.\n",
        "It is used for utility functions logically related to the class but doesn't require access to the class or its instances.\n",
        "@classmethod:\n",
        "It is defined using the @classmethod decorator.\n",
        "It receives the class itself as the first argument (conventionally named cls).\n",
        "It can access and modify class variables.\n",
        "It is used for operations that involve class-level data or for creating factory methods (alternative constructors).\n",
        "\n",
        "23. How does polymorphism work in Python with inheritance?\n",
        "-> Polymorphism in Python, in the context of inheritance, enables objects of different classes to respond to the same method call in a way that is specific to their class. This is achieved through method overriding, where a subclass provides its own implementation of a method that is already defined in its parent class. When a method is called on an object, Python checks the object's class to determine which implementation of the method to execute. If the method is defined in the object's class, that implementation is used; otherwise, Python looks for the method in the parent class and, if necessary, in ancestor classes.\n",
        "\n",
        "24.What is method chaining in Python OOP?\n",
        "-> Method chaining in Python OOP is a technique that allows multiple methods to be called sequentially on the same object in a single line of code. This is achieved by having each method return the object instance (self) after performing its operation. This approach enhances code readability and conciseness, reducing the need for temporary variables.\n",
        "\n",
        "25. What is the purpose of the __call__ method in Python?\n",
        "-> The _call_ method in Python enables instances of a class to be called like regular functions. When a class implements this method, its instances become callable objects. This means you can apply the function call syntax () directly to an instance of the class, triggering the execution of the code defined within the _call_ method.\n"
      ],
      "metadata": {
        "id": "OoQDaPLEWNkp"
      }
    },
    {
      "cell_type": "markdown",
      "source": [
        "**Practical **"
      ],
      "metadata": {
        "id": "cQF59OMRp-oR"
      }
    },
    {
      "cell_type": "code",
      "source": [
        "# Parent class\n",
        "class Animal:\n",
        "    def speak(self):\n",
        "        print(\"Animal speaks\")\n",
        "\n",
        "# Child class\n",
        "class Dog(Animal):\n",
        "    def speak(self):\n",
        "        print(\"Bark!\")\n",
        "\n",
        "# Example usage\n",
        "a = Animal()\n",
        "a.speak()  # Output: Animal speaks\n",
        "\n",
        "d = Dog()\n",
        "d.speak()  # Output: Bark!"
      ],
      "metadata": {
        "colab": {
          "base_uri": "https://localhost:8080/"
        },
        "id": "yztUIC3HqMhp",
        "outputId": "9fa97cd5-5721-48e5-d2a3-b4a028b687a9"
      },
      "execution_count": 1,
      "outputs": [
        {
          "output_type": "stream",
          "name": "stdout",
          "text": [
            "Animal speaks\n",
            "Bark!\n"
          ]
        }
      ]
    },
    {
      "cell_type": "code",
      "source": [
        "from abc import ABC, abstractmethod\n",
        "import math\n",
        "\n",
        "# Abstract class\n",
        "class Shape(ABC):\n",
        "    @abstractmethod\n",
        "    def area(self):\n",
        "        pass\n",
        "\n",
        "# Derived class: Circle\n",
        "class Circle(Shape):\n",
        "    def __init__(self, radius):  # Corrected constructor name\n",
        "        self.radius = radius\n",
        "\n",
        "    def area(self):\n",
        "        return math.pi * self.radius ** 2\n",
        "\n",
        "# Derived class: Rectangle\n",
        "class Rectangle(Shape):\n",
        "    def __init__(self, width, height):  # Corrected constructor name\n",
        "        self.width = width\n",
        "        self.height = height\n",
        "\n",
        "    def area(self):\n",
        "        return self.width * self.height\n",
        "\n",
        "# Example usage\n",
        "c = Circle(5)\n",
        "print(\"Circle area:\", c.area())\n",
        "\n",
        "r = Rectangle(4, 6)\n",
        "print(\"Rectangle area:\", r.area())  # Completed print statement"
      ],
      "metadata": {
        "colab": {
          "base_uri": "https://localhost:8080/"
        },
        "id": "ei2KmeCvq8N6",
        "outputId": "f6678c17-a682-47bc-eaab-2ef54a98e948"
      },
      "execution_count": 4,
      "outputs": [
        {
          "output_type": "stream",
          "name": "stdout",
          "text": [
            "Circle area: 78.53981633974483\n",
            "Rectangle area: 24\n"
          ]
        }
      ]
    },
    {
      "cell_type": "code",
      "source": [
        "# Base class\n",
        "class Vehicle:\n",
        "    def __init__(self, vehicle_type):  # Corrected constructor name\n",
        "        self.type = vehicle_type\n",
        "\n",
        "    def show_type(self):\n",
        "        print(\"Vehicle type:\", self.type)\n",
        "\n",
        "# Derived class\n",
        "class Car(Vehicle):\n",
        "    def __init__(self, vehicle_type, brand):  # Corrected constructor name\n",
        "        super().__init__(vehicle_type)\n",
        "        self.brand = brand\n",
        "\n",
        "    def show_brand(self):\n",
        "        print(\"Car brand:\", self.brand)\n",
        "\n",
        "# Further derived class\n",
        "class ElectricCar(Car):\n",
        "    def __init__(self, vehicle_type, brand, battery_capacity):  # Corrected constructor name\n",
        "        super().__init__(vehicle_type, brand)\n",
        "        self.battery = battery_capacity\n",
        "\n",
        "    def show_battery(self):\n",
        "        print(\"Battery capacity:\", self.battery, \"kWh\")\n",
        "\n",
        "# Example usage\n",
        "ecar = ElectricCar(\"Electric\", \"Tesla\", 75)\n",
        "ecar.show_type()      # Output: Vehicle type: Electric\n",
        "ecar.show_brand()     # Output: Car brand: Tesla\n",
        "ecar.show_battery()   # Output: Battery capacity: 75 kWh"
      ],
      "metadata": {
        "colab": {
          "base_uri": "https://localhost:8080/"
        },
        "id": "50qvTxk-rq2a",
        "outputId": "9a2f97cb-b216-4595-f69e-d6cebda540ae"
      },
      "execution_count": 6,
      "outputs": [
        {
          "output_type": "stream",
          "name": "stdout",
          "text": [
            "Vehicle type: Electric\n",
            "Car brand: Tesla\n",
            "Battery capacity: 75 kWh\n"
          ]
        }
      ]
    },
    {
      "cell_type": "code",
      "source": [
        "# Base class\n",
        "class Bird:\n",
        "    def fly(self):\n",
        "        print(\"Bird is flying\")\n",
        "\n",
        "# Derived class: Sparrow\n",
        "class Sparrow(Bird):\n",
        "    def fly(self):\n",
        "        print(\"Sparrow flies high in the sky\")\n",
        "\n",
        "# Derived class: Penguin\n",
        "class Penguin(Bird):\n",
        "    def fly(self):\n",
        "        print(\"Penguins can't fly, they swim instead\")\n",
        "\n",
        "# Polymorphism in action\n",
        "def bird_fly_test(bird):\n",
        "    bird.fly()\n",
        "\n",
        "# Example usage\n",
        "sparrow = Sparrow()\n",
        "penguin = Penguin()\n",
        "\n",
        "bird_fly_test(sparrow)   # Output: Sparrow flies high in the sky\n",
        "bird_fly_test(penguin)   # Output: Penguins can't fly, they swim instead"
      ],
      "metadata": {
        "colab": {
          "base_uri": "https://localhost:8080/"
        },
        "id": "8VK9iJuAr11q",
        "outputId": "28dc9e15-059f-4e4d-c647-41ac1768f970"
      },
      "execution_count": 7,
      "outputs": [
        {
          "output_type": "stream",
          "name": "stdout",
          "text": [
            "Sparrow flies high in the sky\n",
            "Penguins can't fly, they swim instead\n"
          ]
        }
      ]
    },
    {
      "cell_type": "code",
      "source": [
        "class BankAccount:\n",
        "    def __init__(self, initial_balance=0):  # Corrected constructor name\n",
        "        self.__balance = initial_balance  # private attribute\n",
        "\n",
        "    def deposit(self, amount):\n",
        "        if amount > 0:\n",
        "            self.__balance += amount\n",
        "            print(f\"Deposited: {amount}\")\n",
        "        else:\n",
        "            print(\"Deposit amount must be positive\")\n",
        "\n",
        "    def withdraw(self, amount):\n",
        "        if 0 < amount <= self.__balance:\n",
        "            self.__balance -= amount\n",
        "            print(f\"Withdrew: {amount}\")\n",
        "        else:\n",
        "            print(\"Insufficient balance or invalid amount\")\n",
        "\n",
        "    def check_balance(self):\n",
        "        print(f\"Current balance: {self.__balance}\")\n",
        "\n",
        "# Example usage\n",
        "account = BankAccount(1000)\n",
        "account.check_balance()     # Output: Current balance: 1000\n",
        "account.deposit(500)        # Output: Deposited: 500\n",
        "account.withdraw(300)       # Output: Withdrew: 300\n",
        "account.check_balance()     # Output: Current balance: 1200\n",
        "\n",
        "# Trying to access private variable (not recommended)\n",
        "# print(account.__balance)  # This will raise an AttributeError"
      ],
      "metadata": {
        "colab": {
          "base_uri": "https://localhost:8080/"
        },
        "id": "uiG984tfsS36",
        "outputId": "c0e87ed2-cf46-4e77-d434-99c926f8dc71"
      },
      "execution_count": 11,
      "outputs": [
        {
          "output_type": "stream",
          "name": "stdout",
          "text": [
            "Current balance: 1000\n",
            "Deposited: 500\n",
            "Withdrew: 300\n",
            "Current balance: 1200\n"
          ]
        }
      ]
    },
    {
      "cell_type": "code",
      "source": [
        "# Base class\n",
        "class Instrument:\n",
        "    def play(self):\n",
        "        print(\"Playing an instrument\")\n",
        "\n",
        "# Derived class: Guitar\n",
        "class Guitar(Instrument):\n",
        "    def play(self):\n",
        "        print(\"Strumming the guitar\")\n",
        "\n",
        "# Derived class: Piano\n",
        "class Piano(Instrument):\n",
        "    def play(self):\n",
        "        print(\"Playing the piano keys\")\n",
        "\n",
        "# Function to demonstrate runtime polymorphism\n",
        "def start_playing(instrument):\n",
        "    instrument.play()\n",
        "\n",
        "# Example usage\n",
        "g = Guitar()\n",
        "p = Piano()\n",
        "\n",
        "start_playing(g)   # Output: Strumming the guitar\n",
        "start_playing(p)   # Output: Playing the piano keys"
      ],
      "metadata": {
        "colab": {
          "base_uri": "https://localhost:8080/"
        },
        "id": "e8HWJ6PWsXKh",
        "outputId": "2a916d2f-5b1d-4755-8839-66f439c0742c"
      },
      "execution_count": 12,
      "outputs": [
        {
          "output_type": "stream",
          "name": "stdout",
          "text": [
            "Strumming the guitar\n",
            "Playing the piano keys\n"
          ]
        }
      ]
    },
    {
      "cell_type": "code",
      "source": [
        "class MathOperations:\n",
        "\n",
        "    @classmethod\n",
        "    def add_numbers(cls, a, b):\n",
        "        return a + b\n",
        "\n",
        "    @staticmethod\n",
        "    def subtract_numbers(a, b):\n",
        "        return a - b\n",
        "\n",
        "# Example usage\n",
        "sum_result = MathOperations.add_numbers(10, 5)\n",
        "print(\"Sum:\", sum_result)  # Output: Sum: 15\n",
        "\n",
        "diff_result = MathOperations.subtract_numbers(10, 5)\n",
        "print(\"Difference:\", diff_result)  # Output: Difference: 5"
      ],
      "metadata": {
        "colab": {
          "base_uri": "https://localhost:8080/"
        },
        "id": "-YQpWsOfsd0C",
        "outputId": "d148044b-8169-4367-cf00-0452f88798a6"
      },
      "execution_count": 13,
      "outputs": [
        {
          "output_type": "stream",
          "name": "stdout",
          "text": [
            "Sum: 15\n",
            "Difference: 5\n"
          ]
        }
      ]
    },
    {
      "cell_type": "code",
      "source": [
        "class Person:\n",
        "    count = 0  # Class variable to track the number of instances\n",
        "\n",
        "    def __init__(self, name):  # Corrected constructor name\n",
        "        self.name = name\n",
        "        Person.count += 1\n",
        "\n",
        "    @classmethod\n",
        "    def total_persons(cls):\n",
        "        return cls.count\n",
        "\n",
        "# Example usage\n",
        "p1 = Person(\"Alice\")\n",
        "p2 = Person(\"Bob\")\n",
        "p3 = Person(\"Charlie\")\n",
        "\n",
        "print(\"Total persons created:\", Person.total_persons())  # Output: Total persons created: 3"
      ],
      "metadata": {
        "colab": {
          "base_uri": "https://localhost:8080/"
        },
        "id": "CcmFqUtbstVw",
        "outputId": "de3bf97b-759b-453e-f81f-33e310e97d75"
      },
      "execution_count": 15,
      "outputs": [
        {
          "output_type": "stream",
          "name": "stdout",
          "text": [
            "Total persons created: 3\n"
          ]
        }
      ]
    },
    {
      "cell_type": "code",
      "source": [
        "class Fraction:\n",
        "    def __init__(self, numerator, denominator):\n",
        "        self.numerator = numerator\n",
        "        self.denominator = denominator\n",
        "\n",
        "    def __str__(self):\n",
        "        return f\"{self.numerator}/{self.denominator}\"\n",
        "\n",
        "# Example usage\n",
        "f1 = Fraction(3, 4)\n",
        "print(f1)  # Output: 3/4\n",
        "\n",
        "f2 = Fraction(7, 2)\n",
        "print(f2)  # Output: 7/2"
      ],
      "metadata": {
        "colab": {
          "base_uri": "https://localhost:8080/"
        },
        "id": "u8eMu0dMtJmy",
        "outputId": "4c86a0de-ae77-4dfd-a068-3f548233fe69"
      },
      "execution_count": 19,
      "outputs": [
        {
          "output_type": "stream",
          "name": "stdout",
          "text": [
            "3/4\n",
            "7/2\n"
          ]
        }
      ]
    },
    {
      "cell_type": "code",
      "source": [
        "class Vector:\n",
        "    def __init__(self, x, y):\n",
        "        self.x = x\n",
        "        self.y = y\n",
        "\n",
        "    def __add__(self, other):\n",
        "        return Vector(self.x + other.x, self.y + other.y)\n",
        "\n",
        "    def __str__(self):\n",
        "        return f\"Vector({self.x}, {self.y})\"\n",
        "\n",
        "# Example usage\n",
        "v1 = Vector(2, 3)\n",
        "v2 = Vector(4, 5)\n",
        "v3 = v1 + v2  # Uses the __add__ method\n",
        "\n",
        "print(v3)  # Output: Vector(6, 8)"
      ],
      "metadata": {
        "colab": {
          "base_uri": "https://localhost:8080/"
        },
        "id": "YrOrss1OtZiU",
        "outputId": "aa96bbbb-a4db-40ac-ea86-716119e486f2"
      },
      "execution_count": 21,
      "outputs": [
        {
          "output_type": "stream",
          "name": "stdout",
          "text": [
            "Vector(6, 8)\n"
          ]
        }
      ]
    },
    {
      "cell_type": "code",
      "source": [
        "class Person:\n",
        "    def __init__(self, name, age):\n",
        "        self.name = name\n",
        "        self.age = age\n",
        "\n",
        "    def greet(self):\n",
        "        print(f\"Hello, my name is {self.name} and I am {self.age} years old.\")\n",
        "\n",
        "# Example usage\n",
        "person1 = Person(\"Alice\", 25)\n",
        "person1.greet()  # Output: Hello, my name is Alice and I am 25 years old.\n",
        "\n",
        "person2 = Person(\"Bob\", 30)\n",
        "person2.greet()  # Output:"
      ],
      "metadata": {
        "colab": {
          "base_uri": "https://localhost:8080/"
        },
        "id": "aAWYa_R2tjby",
        "outputId": "9cc008bb-dc7b-4ebc-b046-630951d83048"
      },
      "execution_count": 23,
      "outputs": [
        {
          "output_type": "stream",
          "name": "stdout",
          "text": [
            "Hello, my name is Alice and I am 25 years old.\n",
            "Hello, my name is Bob and I am 30 years old.\n"
          ]
        }
      ]
    },
    {
      "cell_type": "code",
      "source": [
        "class Student:\n",
        "    def __init__(self, name, grades):\n",
        "        self.name = name\n",
        "        self.grades = grades\n",
        "\n",
        "    def average_grade(self):\n",
        "        if self.grades:  # Check if the list of grades is not empty\n",
        "            return sum(self.grades) / len(self.grades)\n",
        "        else:\n",
        "            return 0  # Return 0 if there are no grades\n",
        "\n",
        "# Example usage\n",
        "student1 = Student(\"Alice\", [90, 85, 88, 92])\n",
        "print(f\"{student1.name}'s average grade: {student1.average_grade()}\")  # Output: Alice's average grade: 88.75\n",
        "\n",
        "student2 = Student(\"Bob\", [78, 82, 80])\n",
        "print(f\"{student2.name}'s average grade: {student2.average_grade()}\")  # Output: Bob's average grade: 80.0"
      ],
      "metadata": {
        "colab": {
          "base_uri": "https://localhost:8080/"
        },
        "id": "6J_7e7YStx8S",
        "outputId": "ec422e19-51f1-4cfd-c4a5-f25c6f8ff692"
      },
      "execution_count": 26,
      "outputs": [
        {
          "output_type": "stream",
          "name": "stdout",
          "text": [
            "Alice's average grade: 88.75\n",
            "Bob's average grade: 80.0\n"
          ]
        }
      ]
    },
    {
      "cell_type": "code",
      "source": [
        "class Rectangle:\n",
        "    def __init__(self):\n",
        "        self.length = 0\n",
        "        self.width = 0\n",
        "\n",
        "    def set_dimensions(self, length, width):\n",
        "        self.length = length\n",
        "        self.width = width\n",
        "\n",
        "    def area(self):\n",
        "        return self.length * self.width\n",
        "\n",
        "# Example usage\n",
        "rect = Rectangle()\n",
        "rect.set_dimensions(5, 3)\n",
        "print(f\"Area of the rectangle: {rect.area()}\")  # Output: Area of the rectangle: 15"
      ],
      "metadata": {
        "colab": {
          "base_uri": "https://localhost:8080/"
        },
        "id": "gYg-sZy6uKWj",
        "outputId": "eb8d61e5-36c4-47fd-be34-3d8836d429e6"
      },
      "execution_count": 27,
      "outputs": [
        {
          "output_type": "stream",
          "name": "stdout",
          "text": [
            "Area of the rectangle: 15\n"
          ]
        }
      ]
    },
    {
      "cell_type": "code",
      "source": [
        "# Base class\n",
        "class Employee:\n",
        "    def __init__(self, name, hours_worked, hourly_rate):\n",
        "        self.name = name\n",
        "        self.hours_worked = hours_worked\n",
        "        self.hourly_rate = hourly_rate\n",
        "\n",
        "    def calculate_salary(self):\n",
        "        return self.hours_worked * self.hourly_rate\n",
        "\n",
        "# Derived class: Manager\n",
        "class Manager(Employee):\n",
        "    def __init__(self, name, hours_worked, hourly_rate, bonus):\n",
        "        super().__init__(name, hours_worked, hourly_rate)\n",
        "        self.bonus = bonus\n",
        "\n",
        "    def calculate_salary(self):\n",
        "        base_salary = super().calculate_salary()\n",
        "        return base_salary + self.bonus\n",
        "\n",
        "# Example usage\n",
        "employee = Employee(\"John\", 40, 20)\n",
        "print(f\"{employee.name}'s salary: ${employee.calculate_salary()}\")  # Output: John's salary: $800\n",
        "\n",
        "manager = Manager(\"Alice\", 40, 25, 500)\n",
        "print(f\"{manager.name}'s salary: ${manager.calculate_salary()}\")  # Output: Alice's salary: $1500"
      ],
      "metadata": {
        "colab": {
          "base_uri": "https://localhost:8080/"
        },
        "id": "jJbJhhyyuLxK",
        "outputId": "b724de24-904b-4683-f8a5-94e773a32d56"
      },
      "execution_count": 28,
      "outputs": [
        {
          "output_type": "stream",
          "name": "stdout",
          "text": [
            "John's salary: $800\n",
            "Alice's salary: $1500\n"
          ]
        }
      ]
    },
    {
      "cell_type": "code",
      "source": [
        "class Product:\n",
        "    def __init__(self, name, price, quantity):\n",
        "        self.name = name\n",
        "        self.price = price\n",
        "        self.quantity = quantity\n",
        "\n",
        "    def total_price(self):\n",
        "        return self.price * self.quantity\n",
        "\n",
        "# Example usage\n",
        "product1 = Product(\"Laptop\", 1000, 3)\n",
        "print(f\"Total price of {product1.name}: ${product1.total_price()}\")  # Output: Total price of Laptop: $3000\n",
        "\n",
        "product2 = Product(\"Headphones\", 50, 5)\n",
        "print(f\"Total price of {product2.name}: ${product2.total_price()}\")  # Output: Total price of Headphones: $250"
      ],
      "metadata": {
        "colab": {
          "base_uri": "https://localhost:8080/"
        },
        "id": "nrtjgH_huiOS",
        "outputId": "dad73ea4-f129-4eb6-86f0-f29debff5cf4"
      },
      "execution_count": 30,
      "outputs": [
        {
          "output_type": "stream",
          "name": "stdout",
          "text": [
            "Total price of Laptop: $3000\n",
            "Total price of Headphones: $250\n"
          ]
        }
      ]
    },
    {
      "cell_type": "code",
      "source": [
        "from abc import ABC, abstractmethod\n",
        "\n",
        "# Abstract base class\n",
        "class Animal(ABC):\n",
        "    @abstractmethod\n",
        "    def sound(self):\n",
        "        pass\n",
        "\n",
        "# Derived class: Cow\n",
        "class Cow(Animal):\n",
        "    def sound(self):\n",
        "        return \"Moo\"\n",
        "\n",
        "# Derived class: Sheep\n",
        "class Sheep(Animal):\n",
        "    def sound(self):\n",
        "        return \"Baa\"\n",
        "\n",
        "# Example usage\n",
        "cow = Cow()\n",
        "sheep = Sheep()\n",
        "\n",
        "print(f\"Cow sound: {cow.sound()}\")  # Output: Cow sound: Moo\n",
        "print(f\"Sheep sound: {sheep.sound()}\")  # Output: Sheep sound: Baa"
      ],
      "metadata": {
        "colab": {
          "base_uri": "https://localhost:8080/"
        },
        "id": "f1CcjYbzuoPB",
        "outputId": "abd901db-64e7-4cab-ad95-d384546072c6"
      },
      "execution_count": 31,
      "outputs": [
        {
          "output_type": "stream",
          "name": "stdout",
          "text": [
            "Cow sound: Moo\n",
            "Sheep sound: Baa\n"
          ]
        }
      ]
    },
    {
      "cell_type": "code",
      "source": [
        "class Book:\n",
        "    def __init__(self, title, author, year_published):\n",
        "        self.title = title\n",
        "        self.author = author\n",
        "        self.year_published = year_published\n",
        "\n",
        "    def get_book_info(self):\n",
        "        return f\"'{self.title}' by {self.author}, published in {self.year_published}\"\n",
        "\n",
        "# Example usage\n",
        "book1 = Book(\"The Great Gatsby\", \"F. Scott Fitzgerald\", 1925)\n",
        "print(book1.get_book_info())  # Output: 'The Great Gatsby' by F. Scott Fitzgerald, published in 1925\n",
        "\n",
        "book2 = Book(\"To Kill a Mockingbird\", \"Harper Lee\", 1960)\n",
        "print(book2.get_book_info())  # Output: 'To Kill a Mockingbird' by Harper Lee, published in 1960"
      ],
      "metadata": {
        "colab": {
          "base_uri": "https://localhost:8080/"
        },
        "id": "ZpNPiCsDu5vq",
        "outputId": "8ac39689-d7d9-4c1f-a64d-39c7e263ef9c"
      },
      "execution_count": 33,
      "outputs": [
        {
          "output_type": "stream",
          "name": "stdout",
          "text": [
            "'The Great Gatsby' by F. Scott Fitzgerald, published in 1925\n",
            "'To Kill a Mockingbird' by Harper Lee, published in 1960\n"
          ]
        }
      ]
    },
    {
      "cell_type": "code",
      "source": [
        "# Base class\n",
        "class House:\n",
        "    def __init__(self, address, price):\n",
        "        self.address = address\n",
        "        self.price = price\n",
        "\n",
        "    def get_info(self):\n",
        "        return f\"House located at {self.address}, priced at ${self.price}\"\n",
        "\n",
        "# Derived class: Mansion\n",
        "class Mansion(House):\n",
        "    def __init__(self, address, price, number_of_rooms):\n",
        "        super().__init__(address, price)\n",
        "        self.number_of_rooms = number_of_rooms\n",
        "\n",
        "    def get_info(self):\n",
        "        base_info = super().get_info()\n",
        "        return f\"{base_info}, and has {self.number_of_rooms} rooms.\"\n",
        "\n",
        "# Example usage\n",
        "house = House(\"123 Elm St\", 300000)\n",
        "print(house.get_info())  # Output: House located at 123 Elm St, priced at $300000\n",
        "\n",
        "mansion = Mansion(\"456 Grand Blvd\", 10000000, 15)\n",
        "print(mansion.get_info())  # Output: House located at 456 Grand Blvd, priced at $10000000, and has 15 rooms."
      ],
      "metadata": {
        "colab": {
          "base_uri": "https://localhost:8080/"
        },
        "id": "zTQlt0A_vJSi",
        "outputId": "ef6a526d-08e8-419f-ea39-e58bebd62ab2"
      },
      "execution_count": 36,
      "outputs": [
        {
          "output_type": "stream",
          "name": "stdout",
          "text": [
            "House located at 123 Elm St, priced at $300000\n",
            "House located at 456 Grand Blvd, priced at $10000000, and has 15 rooms.\n"
          ]
        }
      ]
    }
  ]
}